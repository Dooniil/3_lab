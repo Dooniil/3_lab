{
 "cells": [
  {
   "cell_type": "code",
   "execution_count": 18,
   "metadata": {},
   "outputs": [],
   "source": [
    "class Fraction(object):\n",
    "    def __init__(self, num, den):\n",
    "        self.__num = num\n",
    "        self.__den = den\n",
    "        self.reduce()\n",
    "        \n",
    "    def __str__(self):\n",
    "        return \"%d/%d\" % (self.__num, self.__den)\n",
    "    \n",
    "    def reduce(self):\n",
    "        g = Fraction.gcd(self.__num, self.__den)\n",
    "        self.__num /= g\n",
    "        self.__den /= g\n",
    "        \n",
    "    @staticmethod\n",
    "    def gcd(n, m):\n",
    "        if m == 0:\n",
    "            return n\n",
    "        else:\n",
    "            return Fraction.gcd(m, n % m)\n",
    "        \n",
    "    def __neg__(self):\n",
    "        return \"-%d/%d\" % (self.__num, self.__den)\n",
    "    \n",
    "    def __invert__(self):\n",
    "        return \"%d/%d\" % (self.__den, self.__num)\n",
    "    \n",
    "    def __pow__(self, other):\n",
    "        return \"%d/%d\" % (self.__num**other, self.__den**other)\n",
    "    \n",
    "    def __float__(self):\n",
    "        return self.__num / self.__den\n",
    "    \n",
    "    def __int__(self):\n",
    "        return int(self.__num / self.__den)"
   ]
  },
  {
   "cell_type": "code",
   "execution_count": 19,
   "metadata": {},
   "outputs": [
    {
     "name": "stdout",
     "output_type": "stream",
     "text": [
      "-7/2\n",
      "2/7\n",
      "49/4\n",
      "3.5\n",
      "3\n"
     ]
    }
   ],
   "source": [
    "frac = Fraction(7, 2)\n",
    "print(-frac)\n",
    "print(~frac)\n",
    "print(frac**2)\n",
    "print(float(frac))\n",
    "print(int(frac)) "
   ]
  },
  {
   "cell_type": "code",
   "execution_count": 75,
   "metadata": {},
   "outputs": [],
   "source": [
    "class Destr:\n",
    "    def __set_name__(self, owner, name):\n",
    "        self.__name = name\n",
    "    def __get__(self, instance, owner):\n",
    "        return instance.__dict__[self.__name]\n",
    "    def __set__(self, instance, value):\n",
    "        instance.__dict__[self.__name] = value\n",
    "        \n",
    "        \n",
    "class Taggable:\n",
    "    def tag(self):\n",
    "        raise NotImplementedError \n",
    "        \n",
    "class Book(Taggable):\n",
    "    name = Destr()\n",
    "    author = Destr()\n",
    "    ID = Destr()\n",
    "    \n",
    "    def __init__(self, author_i, name_i=None):\n",
    "        if name_i is None:\n",
    "            raise ValueError('Name is requiered')\n",
    "        else:\n",
    "            self.name = name_i\n",
    "            self.author = author_i\n",
    "            self.ID = 0\n",
    "            \n",
    "    def tag(self):\n",
    "        return [i for i in self.name.split() if i[0].isupper()]\n",
    "    \n",
    "    def __str__(self):\n",
    "        return f'[{self.ID}] {self.author} \"{self.name}\"'\n",
    "            \n",
    "class IterLib:\n",
    "    \n",
    "    def __init__(self, lib):\n",
    "        self.__limit = lib.len_books_list\n",
    "        self.__book = 0\n",
    "        self.__lib = lib\n",
    "    \n",
    "    def __iter__(self):\n",
    "        return self\n",
    "    \n",
    "    def __next__(self):\n",
    "        if self.__book >= self.__limit:\n",
    "            raise StopIteration\n",
    "        \n",
    "        self.__book += 1\n",
    "        return self.__lib.books_list[self.__book-1]\n",
    "\n",
    "\n",
    "class Library:\n",
    "    ID_book = 0\n",
    "    \n",
    "    number = Destr()\n",
    "    address = Destr()\n",
    "    \n",
    "    def __init__(self, number_i, address_i):\n",
    "        self.number = number_i\n",
    "        self.address = address_i\n",
    "        self.__books_list = []\n",
    "        \n",
    "    def __iadd__(self, other: Book):\n",
    "        Library.ID_book += 1\n",
    "        other.ID = Library.ID_book\n",
    "        self.__books_list.append(other)\n",
    "        return self\n",
    "    \n",
    "    @property\n",
    "    def books_list(self):\n",
    "        return self.__books_list\n",
    "    @property\n",
    "    def len_books_list(self):\n",
    "        return len(self.__books_list)\n",
    "    \n",
    "    def __iter__(self):\n",
    "        return IterLib(self)"
   ]
  },
  {
   "cell_type": "code",
   "execution_count": 76,
   "metadata": {},
   "outputs": [
    {
     "name": "stdout",
     "output_type": "stream",
     "text": [
      "[1] Leo Tolstoi \"War and Peace\"\n",
      "['War', 'Peace']\n",
      "[2] Charles Dickens \"David Copperfield\"\n",
      "['David', 'Copperfield']\n",
      "[3] Charles Dickens \"David Copperfield\"\n",
      "['David', 'Copperfield']\n",
      "[4] Charles Dickens \"David Copperfield\"\n",
      "['David', 'Copperfield']\n"
     ]
    }
   ],
   "source": [
    "lib = Library(1, '51 Some str., NY')\n",
    "lib += Book('Leo Tolstoi', 'War and Peace')\n",
    "lib += Book('Charles Dickens', 'David Copperfield')\n",
    "lib += Book('Charles Dickens', 'David Copperfield')\n",
    "lib += Book('Charles Dickens', 'David Copperfield')\n",
    "\n",
    "\n",
    "for book in lib:\n",
    "    print(book)\n",
    "    print(book.tag())"
   ]
  },
  {
   "cell_type": "code",
   "execution_count": null,
   "metadata": {},
   "outputs": [],
   "source": []
  },
  {
   "cell_type": "code",
   "execution_count": null,
   "metadata": {},
   "outputs": [],
   "source": []
  }
 ],
 "metadata": {
  "kernelspec": {
   "display_name": "Python 3",
   "language": "python",
   "name": "python3"
  },
  "language_info": {
   "codemirror_mode": {
    "name": "ipython",
    "version": 3
   },
   "file_extension": ".py",
   "mimetype": "text/x-python",
   "name": "python",
   "nbconvert_exporter": "python",
   "pygments_lexer": "ipython3",
   "version": "3.8.5"
  }
 },
 "nbformat": 4,
 "nbformat_minor": 4
}
